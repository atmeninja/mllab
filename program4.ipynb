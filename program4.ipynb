{
  "nbformat": 4,
  "nbformat_minor": 0,
  "metadata": {
    "colab": {
      "provenance": []
    },
    "kernelspec": {
      "name": "python3",
      "display_name": "Python 3"
    },
    "language_info": {
      "name": "python"
    }
  },
  "cells": [
    {
      "cell_type": "code",
      "execution_count": 1,
      "metadata": {
        "id": "KZJ3RC2IilOM"
      },
      "outputs": [],
      "source": [
        "import pandas as pd\n",
        "data = pd.read_csv(\"/content/dataset.csv\")"
      ]
    },
    {
      "cell_type": "code",
      "source": [
        "print(data)"
      ],
      "metadata": {
        "colab": {
          "base_uri": "https://localhost:8080/"
        },
        "id": "sWd5-NNei9Ik",
        "outputId": "d5ee57f8-33e1-4df9-940c-20927d2815fa"
      },
      "execution_count": 2,
      "outputs": [
        {
          "output_type": "stream",
          "name": "stdout",
          "text": [
            "  Experience Qualification   Skill  Age Hired (Target)\n",
            "0        Yes       Masters  Python   30            Yes\n",
            "1        Yes     Bachelors  Python   25            Yes\n",
            "2         No     Bachelors    Java   28             No\n",
            "3        Yes       Masters    Java   40            Yes\n",
            "4         No       Masters  Python   35             No\n"
          ]
        }
      ]
    },
    {
      "cell_type": "code",
      "source": [
        "def find_s_algorithm(data):\n",
        "  \"\"\"Implements the Find-S algorithm to find the most specific hypothesis.\"\"\"\n",
        "  attributes = data.iloc[:, :-1].values\n",
        "  target = data.iloc[:,-1].values\n",
        "  for i in range(len(target)):\n",
        "    if target[i] == \"Yes\":\n",
        "      hypothesis = attributes[i].copy()\n",
        "    break\n",
        "  for i in range(len(target)):\n",
        "    if target[i] == \"Yes\":\n",
        "      for j in range(len(hypothesis)):\n",
        "        if hypothesis[j] != attributes[i][j]:\n",
        "          hypothesis[j] = '?'\n",
        "  return hypothesis\n",
        "final_hypothesis = find_s_algorithm(data)\n",
        "print(\"Most Specific Hypothesis:\", final_hypothesis)"
      ],
      "metadata": {
        "colab": {
          "base_uri": "https://localhost:8080/"
        },
        "id": "GKwVFQZIjEK8",
        "outputId": "006e4f64-e848-4c20-a820-7185ad063b28"
      },
      "execution_count": 3,
      "outputs": [
        {
          "output_type": "stream",
          "name": "stdout",
          "text": [
            "Most Specific Hypothesis: ['Yes' '?' '?' '?']\n"
          ]
        }
      ]
    }
  ]
}